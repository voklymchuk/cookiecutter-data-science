{
 "cells": [
  {
   "cell_type": "code",
   "execution_count": null,
   "metadata": {},
   "outputs": [],
   "source": [
    "Create project in PyCharm "
   ]
  },
  {
   "cell_type": "code",
   "execution_count": null,
   "metadata": {},
   "outputs": [],
   "source": [
    "Open terminal window"
   ]
  },
  {
   "cell_type": "code",
   "execution_count": null,
   "metadata": {},
   "outputs": [],
   "source": []
  },
  {
   "cell_type": "code",
   "execution_count": null,
   "metadata": {},
   "outputs": [],
   "source": []
  },
  {
   "cell_type": "markdown",
   "metadata": {},
   "source": [
    "# Adding default packages to new environments automatically"
   ]
  },
  {
   "cell_type": "code",
   "execution_count": null,
   "metadata": {},
   "outputs": [],
   "source": [
    "To automatically add default packages to each new environment that you create:\n",
    "Open Anaconda Prompt or terminal and run:"
   ]
  },
  {
   "cell_type": "code",
   "execution_count": null,
   "metadata": {},
   "outputs": [],
   "source": [
    "!conda config --add create_default_packages jupyter numpy cookiecutter"
   ]
  },
  {
   "cell_type": "code",
   "execution_count": null,
   "metadata": {},
   "outputs": [],
   "source": [
    "Now, you can create new environments and the default packages will be installed in all of them.\n",
    "\n",
    "You can also edit the .condarc file with a list of packages to create by default.\n",
    "\n",
    "You can override this option at the command prompt with the --no-default-packages flag."
   ]
  },
  {
   "cell_type": "code",
   "execution_count": null,
   "metadata": {},
   "outputs": [],
   "source": []
  },
  {
   "cell_type": "markdown",
   "metadata": {},
   "source": [
    "# Printing current environment name"
   ]
  },
  {
   "cell_type": "code",
   "execution_count": 1,
   "metadata": {
    "pycharm": {
     "name": "#%%\n"
    }
   },
   "outputs": [
    {
     "name": "stdout",
     "output_type": "stream",
     "text": [
      "# conda environments:\r\n",
      "#\r\n",
      "base                     /Users/val/opt/anaconda3\r\n",
      "android                  /Users/val/opt/anaconda3/envs/android\r\n",
      "beam                     /Users/val/opt/anaconda3/envs/beam\r\n",
      "cookiecutter-data-science  *  /Users/val/opt/anaconda3/envs/cookiecutter-data-science\r\n",
      "dvc                      /Users/val/opt/anaconda3/envs/dvc\r\n",
      "dvc2                     /Users/val/opt/anaconda3/envs/dvc2\r\n",
      "microscopeProject        /Users/val/opt/anaconda3/envs/microscopeProject\r\n",
      "nlp                      /Users/val/opt/anaconda3/envs/nlp\r\n",
      "\r\n"
     ]
    }
   ],
   "source": [
    "# confirm environment name\n",
    "!conda info --envs"
   ]
  },
  {
   "cell_type": "markdown",
   "metadata": {},
   "source": [
    "# Creating new python project in pycharm"
   ]
  },
  {
   "cell_type": "markdown",
   "metadata": {},
   "source": [
    "Create a new python project in pycharm, then open terminal"
   ]
  },
  {
   "cell_type": "code",
   "execution_count": 3,
   "metadata": {
    "scrolled": true
   },
   "outputs": [
    {
     "name": "stdout",
     "output_type": "stream",
     "text": [
      "Collecting package metadata (current_repodata.json): done\n",
      "Solving environment: done\n",
      "\n",
      "# All requested packages already installed.\n",
      "\n",
      "You've downloaded /Users/val/.cookiecutters/cookiecutter-data-science before. Is it okay to delete and re-download it? [yes]: ^C\n",
      "Aborted!\n"
     ]
    }
   ],
   "source": [
    "# create project repository\n",
    "!conda install numpy cookiecutter\n",
    "!cookiecutter https://github.com/voklymchuk/cookiecutter-data-science\n"
   ]
  },
  {
   "cell_type": "markdown",
   "metadata": {},
   "source": [
    "# Changing to the project's root"
   ]
  },
  {
   "cell_type": "code",
   "execution_count": 4,
   "metadata": {},
   "outputs": [],
   "source": [
    "# If in an existing repository's notebook"
   ]
  },
  {
   "cell_type": "code",
   "execution_count": 5,
   "metadata": {},
   "outputs": [],
   "source": [
    "# Change to the project's root\n",
    "!cd ../"
   ]
  },
  {
   "cell_type": "code",
   "execution_count": 53,
   "metadata": {},
   "outputs": [],
   "source": [
    "# Or alternatively if creating a new repository"
   ]
  },
  {
   "cell_type": "code",
   "execution_count": 6,
   "metadata": {},
   "outputs": [],
   "source": [
    "# Change to the project's root\n",
    "#!cd {{ cookiecutter.repo_name }}"
   ]
  },
  {
   "cell_type": "markdown",
   "metadata": {},
   "source": [
    "# Install project requirements"
   ]
  },
  {
   "cell_type": "code",
   "execution_count": 8,
   "metadata": {},
   "outputs": [
    {
     "name": "stdout",
     "output_type": "stream",
     "text": [
      "\n",
      "# >>>>>>>>>>>>>>>>>>>>>> ERROR REPORT <<<<<<<<<<<<<<<<<<<<<<\n",
      "\n",
      "    Traceback (most recent call last):\n",
      "      File \"/Users/val/opt/anaconda3/lib/python3.7/site-packages/conda/exceptions.py\", line 1079, in __call__\n",
      "        return func(*args, **kwargs)\n",
      "      File \"/Users/val/opt/anaconda3/lib/python3.7/site-packages/conda_env/cli/main.py\", line 80, in do_call\n",
      "        exit_code = getattr(module, func_name)(args, parser)\n",
      "      File \"/Users/val/opt/anaconda3/lib/python3.7/site-packages/conda_env/cli/main_update.py\", line 68, in execute\n",
      "        directory=os.getcwd())\n",
      "      File \"/Users/val/opt/anaconda3/lib/python3.7/site-packages/conda_env/specs/__init__.py\", line 43, in detect\n",
      "        if spec.can_handle():\n",
      "      File \"/Users/val/opt/anaconda3/lib/python3.7/site-packages/conda_env/specs/yaml_file.py\", line 18, in can_handle\n",
      "        self._environment = env.from_file(self.filename)\n",
      "      File \"/Users/val/opt/anaconda3/lib/python3.7/site-packages/conda_env/env.py\", line 160, in from_file\n",
      "        return from_yaml(yamlstr, filename=filename)\n",
      "      File \"/Users/val/opt/anaconda3/lib/python3.7/site-packages/conda_env/env.py\", line 141, in from_yaml\n",
      "        data = yaml_safe_load(yamlstr)\n",
      "      File \"/Users/val/opt/anaconda3/lib/python3.7/site-packages/conda/common/serialize.py\", line 67, in yaml_safe_load\n",
      "        return yaml.safe_load(string, version=\"1.2\")\n",
      "      File \"/Users/val/opt/anaconda3/lib/python3.7/site-packages/ruamel_yaml/main.py\", line 980, in safe_load\n",
      "        return load(stream, SafeLoader, version)\n",
      "      File \"/Users/val/opt/anaconda3/lib/python3.7/site-packages/ruamel_yaml/main.py\", line 935, in load\n",
      "        return loader._constructor.get_single_data()\n",
      "      File \"/Users/val/opt/anaconda3/lib/python3.7/site-packages/ruamel_yaml/constructor.py\", line 111, in get_single_data\n",
      "        return self.construct_document(node)\n",
      "      File \"/Users/val/opt/anaconda3/lib/python3.7/site-packages/ruamel_yaml/constructor.py\", line 121, in construct_document\n",
      "        for _dummy in generator:\n",
      "      File \"/Users/val/opt/anaconda3/lib/python3.7/site-packages/ruamel_yaml/constructor.py\", line 707, in construct_yaml_map\n",
      "        value = self.construct_mapping(node)\n",
      "      File \"/Users/val/opt/anaconda3/lib/python3.7/site-packages/ruamel_yaml/constructor.py\", line 426, in construct_mapping\n",
      "        return BaseConstructor.construct_mapping(self, node, deep=deep)\n",
      "      File \"/Users/val/opt/anaconda3/lib/python3.7/site-packages/ruamel_yaml/constructor.py\", line 242, in construct_mapping\n",
      "        key_node.start_mark,\n",
      "    ruamel_yaml.constructor.ConstructorError: while constructing a mapping\n",
      "      in \"<unicode string>\", line 1, column 7:\n",
      "        name: {{ cookiecutter.repo_name }}\n",
      "              ^ (line: 1)\n",
      "    found unhashable key\n",
      "      in \"<unicode string>\", line 1, column 8:\n",
      "        name: {{ cookiecutter.repo_name }}\n",
      "               ^ (line: 1)\n",
      "\n",
      "`$ /Users/val/opt/anaconda3/bin/conda-env update --file ../environment.yml`\n",
      "\n",
      "  environment variables:\n",
      "                 CIO_TEST=<not set>\n",
      "  CONDA_AUTO_UPDATE_CONDA=false\n",
      "        CONDA_DEFAULT_ENV=cookiecutter-data-science\n",
      "                CONDA_EXE=/Users/val/opt/anaconda3/bin/conda\n",
      "             CONDA_PREFIX=/Users/val/opt/anaconda3/envs/cookiecutter-data-science\n",
      "           CONDA_PREFIX_1=/Users/val/opt/anaconda3\n",
      "    CONDA_PROMPT_MODIFIER=(cookiecutter-data-science)\n",
      "         CONDA_PYTHON_EXE=/Users/val/opt/anaconda3/bin/python\n",
      "               CONDA_ROOT=/Users/val/opt/anaconda3\n",
      "              CONDA_SHLVL=2\n",
      "           CURL_CA_BUNDLE=<not set>\n",
      "         HADOOP_CLASSPATH=/usr/local/Cellar/apache-spark/2.4.4/libexec/jars/gcs-connector-\n",
      "                          hadoop2-1.9.17-javadoc.jar\n",
      "                     PATH=/usr/local/opt/ruby/bin:/usr/local/Cellar/flume/1.9.0/libexec/bin:/usr\n",
      "                          /local/texlive/2020/bin/x86_64-darwin:/Applications/google-cloud-\n",
      "                          sdk/bin:/Users/val/opt/anaconda3/envs/cookiecutter-data-science/bin:/U\n",
      "                          sers/val/opt/anaconda3/condabin:/opt/local/bin:/opt/local/sbin:/usr/lo\n",
      "                          cal/bin:/usr/bin:/bin:/usr/sbin:/sbin:/Library/TeX/texbin:/usr/local/s\n",
      "                          hare/dotnet:~/.dotnet/tools:/Applications/Server.app/Contents/ServerRo\n",
      "                          ot/usr/bin:/Applications/Server.app/Contents/ServerRoot/usr/sbin:/Libr\n",
      "                          ary/Apple/usr/bin:/Library/Frameworks/Mono.framework/Versions/Current/\n",
      "                          Commands:/Users/val/Documents/scripts:/Users/val/.rvm/bin:/usr/local/C\n",
      "                          ellar/maven/3.6.2/bin:/Users/val/opt/anaconda3/envs/beam/bin/python3/b\n",
      "                          in:/Users/val/.local/bin:/Users/val/bin:/Users/val/bin:/Users/val/.rvm\n",
      "                          /bin\n",
      "       REQUESTS_CA_BUNDLE=<not set>\n",
      "          SPARK_CLASSPATH=/Applications/google-cloud-sdk/gcs-connector-\n",
      "                          hadoop2-1.9.17-javadoc.jar\n",
      "            SSL_CERT_FILE=<not set>\n",
      "             rvm_bin_path=/Users/val/.rvm/bin\n",
      "                 rvm_path=/Users/val/.rvm\n",
      "\n",
      "     active environment : cookiecutter-data-science\n",
      "    active env location : /Users/val/opt/anaconda3/envs/cookiecutter-data-science\n",
      "            shell level : 2\n",
      "       user config file : /Users/val/.condarc\n",
      " populated config files : /Users/val/.condarc\n",
      "          conda version : 4.9.2\n",
      "    conda-build version : 3.18.11\n",
      "         python version : 3.7.6.final.0\n",
      "       virtual packages : __osx=10.16=0\n",
      "                          __unix=0=0\n",
      "                          __archspec=1=x86_64\n",
      "       base environment : /Users/val/opt/anaconda3  (writable)\n",
      "           channel URLs : https://conda.anaconda.org/conda-forge/osx-64\n",
      "                          https://conda.anaconda.org/conda-forge/noarch\n",
      "                          https://repo.anaconda.com/pkgs/main/osx-64\n",
      "                          https://repo.anaconda.com/pkgs/main/noarch\n",
      "                          https://repo.anaconda.com/pkgs/r/osx-64\n",
      "                          https://repo.anaconda.com/pkgs/r/noarch\n",
      "          package cache : /Users/val/opt/anaconda3/pkgs\n",
      "                          /Users/val/.conda/pkgs\n",
      "       envs directories : /Users/val/opt/anaconda3/envs\n",
      "                          /Users/val/.conda/envs\n",
      "               platform : osx-64\n",
      "             user-agent : conda/4.9.2 requests/2.24.0 CPython/3.7.6 Darwin/20.2.0 OSX/10.16\n",
      "                UID:GID : 501:20\n",
      "             netrc file : /Users/val/.netrc\n",
      "           offline mode : False\n",
      "\n",
      "\n",
      "An unexpected error has occurred. Conda has prepared the above report.\n",
      "\n",
      "If submitted, this report will be used by core maintainers to improve\n",
      "future releases of conda.\n",
      "Would you like conda to send this report to the core maintainers?\n",
      "\n",
      "[y/N]: \n",
      "Timeout reached. No report sent.\n",
      "\n"
     ]
    }
   ],
   "source": [
    "# Link ./src/ with your notebook\n",
    "# Run this in the project root\n",
    "!conda env update --file ../environment.yml\n",
    "\n"
   ]
  },
  {
   "cell_type": "markdown",
   "metadata": {},
   "source": [
    "# At the beginning of your notebook"
   ]
  },
  {
   "cell_type": "code",
   "execution_count": null,
   "metadata": {
    "pycharm": {
     "name": "#%%\n"
    }
   },
   "outputs": [],
   "source": [
    "# make sure you have two magic functions imported at the beginning of your notebook\n",
    "%load_ext autoreload\n",
    "%autoreload 2\n"
   ]
  },
  {
   "cell_type": "markdown",
   "metadata": {},
   "source": [
    "# Import custom functions"
   ]
  },
  {
   "cell_type": "code",
   "execution_count": 58,
   "metadata": {},
   "outputs": [
    {
     "ename": "SyntaxError",
     "evalue": "invalid syntax (<ipython-input-58-bddfec3b4dc7>, line 1)",
     "output_type": "error",
     "traceback": [
      "\u001b[0;36m  File \u001b[0;32m\"<ipython-input-58-bddfec3b4dc7>\"\u001b[0;36m, line \u001b[0;32m1\u001b[0m\n\u001b[0;31m    from {{ cookiecutter.module_name }} import Foo\u001b[0m\n\u001b[0m         ^\u001b[0m\n\u001b[0;31mSyntaxError\u001b[0m\u001b[0;31m:\u001b[0m invalid syntax\n"
     ]
    }
   ],
   "source": [
    "from {{ cookiecutter.module_name }} import Foo"
   ]
  },
  {
   "cell_type": "code",
   "execution_count": 40,
   "metadata": {},
   "outputs": [
    {
     "ename": "NameError",
     "evalue": "name 'Foo' is not defined",
     "output_type": "error",
     "traceback": [
      "\u001b[0;31m---------------------------------------------------------------------------\u001b[0m",
      "\u001b[0;31mNameError\u001b[0m                                 Traceback (most recent call last)",
      "\u001b[0;32m<ipython-input-40-00450122b233>\u001b[0m in \u001b[0;36m<module>\u001b[0;34m()\u001b[0m\n\u001b[0;32m----> 1\u001b[0;31m \u001b[0mFoo\u001b[0m\u001b[0;34m.\u001b[0m\u001b[0mprint_hi\u001b[0m\u001b[0;34m(\u001b[0m\u001b[0;34m\"ame\"\u001b[0m\u001b[0;34m)\u001b[0m\u001b[0;34m\u001b[0m\u001b[0;34m\u001b[0m\u001b[0m\n\u001b[0m",
      "\u001b[0;31mNameError\u001b[0m: name 'Foo' is not defined"
     ]
    }
   ],
   "source": [
    "Foo.print_hi(\"ame\")"
   ]
  },
  {
   "cell_type": "code",
   "execution_count": null,
   "metadata": {},
   "outputs": [],
   "source": []
  },
  {
   "cell_type": "code",
   "execution_count": null,
   "metadata": {},
   "outputs": [],
   "source": []
  },
  {
   "cell_type": "code",
   "execution_count": null,
   "metadata": {},
   "outputs": [],
   "source": []
  },
  {
   "cell_type": "code",
   "execution_count": null,
   "metadata": {},
   "outputs": [],
   "source": [
    "# while in test_env, export the packages used to an environment file\n",
    "conda env export > environment.yaml"
   ]
  },
  {
   "cell_type": "code",
   "execution_count": null,
   "metadata": {},
   "outputs": [],
   "source": [
    "# Now we are no longer in test_env, we can delete it\n",
    "conda env remove --name test_env"
   ]
  },
  {
   "cell_type": "code",
   "execution_count": null,
   "metadata": {},
   "outputs": [],
   "source": [
    "#Making the environment again from the yaml file\n",
    "conda env create --file environment.yaml"
   ]
  }
 ],
 "metadata": {
  "kernelspec": {
   "display_name": "Python 3",
   "language": "python",
   "name": "python3"
  },
  "language_info": {
   "codemirror_mode": {
    "name": "ipython",
    "version": 3
   },
   "file_extension": ".py",
   "mimetype": "text/x-python",
   "name": "python",
   "nbconvert_exporter": "python",
   "pygments_lexer": "ipython3",
   "version": "3.7.8"
  }
 },
 "nbformat": 4,
 "nbformat_minor": 1
}
